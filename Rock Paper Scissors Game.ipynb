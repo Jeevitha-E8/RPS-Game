{
 "cells": [
  {
   "cell_type": "markdown",
   "id": "7797ab18",
   "metadata": {},
   "source": [
    "## ROCK-PAPER-SCISSORS"
   ]
  },
  {
   "cell_type": "markdown",
   "id": "eeb15edc",
   "metadata": {},
   "source": [
    "**Game_Rules:**\n",
    "\n",
    "*Rock wins on scissors*\n",
    "\n",
    "*Paper wins on rock*\n",
    "\n",
    "*Scissors wins on paper*"
   ]
  },
  {
   "cell_type": "code",
   "execution_count": 1,
   "id": "235c8a57",
   "metadata": {},
   "outputs": [],
   "source": [
    "import random\n",
    "comp_wins=0\n",
    "play_wins=0"
   ]
  },
  {
   "cell_type": "code",
   "execution_count": 2,
   "id": "e75e6950",
   "metadata": {},
   "outputs": [],
   "source": [
    "\n",
    "def User_choice():\n",
    "    uchoice=input(\"Choose rock,paper,scissors: \")\n",
    "    if uchoice == \"Rock\":\n",
    "        uchoice=\"r\"\n",
    "    elif uchoice == \"Paper\":\n",
    "        uchoice=\"p\"\n",
    "    elif uchoice == \"Scissors\":\n",
    "        uchoice=\"s\"\n",
    "    else:\n",
    "        print(\"I didn't understand.Check once again!\")\n",
    "    return uchoice"
   ]
  },
  {
   "cell_type": "markdown",
   "id": "4bb17f26",
   "metadata": {},
   "source": [
    "**Computer randomly chooses choices**"
   ]
  },
  {
   "cell_type": "code",
   "execution_count": 3,
   "id": "f2ed3a78",
   "metadata": {},
   "outputs": [],
   "source": [
    "def Computer_Choice():\n",
    "    comp_choice=random.randint(1,3)\n",
    "    if comp_choice==1:\n",
    "        comp_choice='r'\n",
    "    elif comp_choice==2:\n",
    "        comp_choice='p'\n",
    "    elif comp_choice==3:\n",
    "        comp_choice='s'\n",
    "    return comp_choice"
   ]
  },
  {
   "cell_type": "markdown",
   "id": "79e0aadb",
   "metadata": {},
   "source": [
    "**Based on the choices score will be counted.**"
   ]
  },
  {
   "cell_type": "code",
   "execution_count": 4,
   "id": "84cbe45b",
   "metadata": {},
   "outputs": [
    {
     "name": "stdout",
     "output_type": "stream",
     "text": [
      "Welcome to RPS game!!!Have a great fun\n",
      "Choose rock,paper,scissors: 123\n",
      "I didn't understand.Check once again!\n",
      "Player score  0\n",
      "Computer score  0\n",
      "Do you want to play again? (y/n)y\n",
      "Choose rock,paper,scissors: Rock\n",
      "You choosed rock & computer choosed scissors.\n",
      "You won!\n",
      "Player score  1\n",
      "Computer score  0\n",
      "Do you want to play again? (y/n)y\n",
      "Choose rock,paper,scissors: Scissors\n",
      "Game is tied!\n",
      "Player score  1\n",
      "Computer score  0\n",
      "Do you want to play again? (y/n)y\n",
      "Choose rock,paper,scissors: Paper\n",
      "You choosed paper & computer choosed scissors.\n",
      "You lost!\n",
      "Player score  1\n",
      "Computer score  1\n",
      "Do you want to play again? (y/n)y\n",
      "Choose rock,paper,scissors: Rock\n",
      "You choosed rock & computer choosed scissors.\n",
      "You won!\n",
      "Player score  2\n",
      "Computer score  1\n",
      "Do you want to play again? (y/n)n\n"
     ]
    }
   ],
   "source": [
    "print(\"Welcome to RPS game!!!Have a great fun\")\n",
    "while True:\n",
    "    uchoice=User_choice()\n",
    "    comp_choice=Computer_Choice()\n",
    "    if uchoice == \"r\":\n",
    "        if comp_choice==uchoice:\n",
    "            print(\"Game tied!\")\n",
    "        elif comp_choice==\"p\":\n",
    "            print(\"You choosed rock & computer choosed paper.\\nYou lost!\")\n",
    "            comp_wins+=1\n",
    "        elif comp_choice==\"s\":\n",
    "            print(\"You choosed rock & computer choosed scissors.\\nYou won!\")\n",
    "            play_wins+=1\n",
    "    elif uchoice == \"p\":\n",
    "        if comp_choice==uchoice:\n",
    "            print(\"Game tied!\")\n",
    "        elif comp_choice==\"r\":\n",
    "            print(\"You choosed paper & computer choosed Rock.\\nYou won!\")\n",
    "            play_wins+=1\n",
    "        elif comp_choice==\"s\":\n",
    "            print(\"You choosed paper & computer choosed scissors.\\nYou lost!\")\n",
    "            comp_wins+=1\n",
    "    elif uchoice == \"s\":\n",
    "        if comp_choice==uchoice:\n",
    "            print(\"Game is tied!\")\n",
    "        elif comp_choice==\"r\":\n",
    "            print(\"You choosed scissors & computer choosed Rock.\\n you lost!\")\n",
    "            comp_wins+=1\n",
    "        elif comp_choice==\"p\":\n",
    "            print(\"You choosed scissors & computer choosed paper.\\n you won!\")\n",
    "            play_wins+=1\n",
    "    print(\"Player score \",play_wins)\n",
    "    print(\"Computer score \",comp_wins)\n",
    "    user_choice = input(\"Do you want to play again? (y/n)\")\n",
    "    if user_choice.lower()==\"y\":\n",
    "        pass\n",
    "    elif user_choice.lower()==\"n\":\n",
    "        break\n",
    "    else:\n",
    "        break"
   ]
  },
  {
   "cell_type": "markdown",
   "id": "7faeacaf",
   "metadata": {},
   "source": [
    "**Have a nice day**\n",
    "### Thank-You!!! ###"
   ]
  }
 ],
 "metadata": {
  "kernelspec": {
   "display_name": "Python 3",
   "language": "python",
   "name": "python3"
  },
  "language_info": {
   "codemirror_mode": {
    "name": "ipython",
    "version": 3
   },
   "file_extension": ".py",
   "mimetype": "text/x-python",
   "name": "python",
   "nbconvert_exporter": "python",
   "pygments_lexer": "ipython3",
   "version": "3.8.8"
  }
 },
 "nbformat": 4,
 "nbformat_minor": 5
}
